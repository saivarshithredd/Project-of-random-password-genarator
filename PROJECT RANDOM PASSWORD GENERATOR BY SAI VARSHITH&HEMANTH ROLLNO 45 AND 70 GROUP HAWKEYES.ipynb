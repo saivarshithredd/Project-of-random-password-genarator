{
 "cells": [
  {
   "cell_type": "markdown",
   "id": "989da17b",
   "metadata": {},
   "source": [
    "WE CAN CREATE RANDOM PASSWORDS FROM THE CODE GIVEN BELOW"
   ]
  },
  {
   "cell_type": "markdown",
   "id": "747a8801",
   "metadata": {},
   "source": [
    "BY THIS PROJECT ONE CAN GENERATE STRONG RANDOM PASSWORDS WHICH CAN BE UESD TO SECURE OUR PERSONAL AND PROFFESIONAL ACCOUNT\n",
    "THE PASSWORD GENERATED CONSISTS OF DIFFERENT SPECIAL CHARACTERS NUMBERS ETC..\n",
    "SO THIS PROJECT IS USED TO GENERATE STRONG PASSWORDS SO WE CAN SECURE OUR ACCOUNTS."
   ]
  },
  {
   "cell_type": "code",
   "execution_count": 2,
   "id": "389430bc",
   "metadata": {},
   "outputs": [],
   "source": [
    "import random\n",
    "def passwordgenerator():\n",
    "    uppercase=\"ABCDEFGHIJKLMNOPQRSTUVWXYZ\"\n",
    "    lowercase=\"abcdefghijklmnopqrstuvwxyz\"\n",
    "    numbers=\"1234567890\"\n",
    "    characters=\"!@@#$%^&*)(/][{}><\"\n",
    "    add=uppercase+lowercase+numbers+characters\n",
    "    length=int(input('ENTER THE LENGTH OF PASSWORD YOU WANT:'))\n",
    "    password=\"\".join(random.sample(add,length))\n",
    "    print(\"THE PASSWORD GENERATED IS :\",password)"
   ]
  },
  {
   "cell_type": "markdown",
   "id": "db403e5f",
   "metadata": {},
   "source": [
    "QUESTION : CREATE A 12 LETTER RANDOM PASSWORD CONTAINING ALPHABETS NUMBERS AND SPECIAL NUMBERS? \n"
   ]
  },
  {
   "cell_type": "code",
   "execution_count": 3,
   "id": "acb54bc2",
   "metadata": {},
   "outputs": [
    {
     "name": "stdout",
     "output_type": "stream",
     "text": [
      "ENTER THE LENGTH OF PASSWORD YOU WANT:12\n",
      "THE PASSWORD GENERATED IS : 6d4HSp$jXyRQ\n"
     ]
    }
   ],
   "source": [
    "passwordgenerator()"
   ]
  }
 ],
 "metadata": {
  "kernelspec": {
   "display_name": "Python 3 (ipykernel)",
   "language": "python",
   "name": "python3"
  },
  "language_info": {
   "codemirror_mode": {
    "name": "ipython",
    "version": 3
   },
   "file_extension": ".py",
   "mimetype": "text/x-python",
   "name": "python",
   "nbconvert_exporter": "python",
   "pygments_lexer": "ipython3",
   "version": "3.9.12"
  }
 },
 "nbformat": 4,
 "nbformat_minor": 5
}
